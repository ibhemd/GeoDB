{
 "cells": [
  {
   "cell_type": "code",
   "execution_count": 19,
   "metadata": {
    "collapsed": true
   },
   "outputs": [],
   "source": [
    "import psycopg2\n",
    "\n",
    "def get_connection():\n",
    "    db_connection = None\n",
    "    try:\n",
    "        db_connection = psycopg2.connect(\n",
    "            host=\"localhost\",\n",
    "            database=\"postgres\",\n",
    "            user=\"postgres\",\n",
    "            password=\"geodb\"\n",
    "        )\n",
    "        # print(\"Database connected successfully\")\n",
    "    except (Exception, psycopg2.DatabaseError) as error:\n",
    "        print(\"Error: \", error)\n",
    "    finally:\n",
    "        return db_connection\n",
    "\n",
    "\n",
    "def execute_cursor(execute_string):\n",
    "    connection = get_connection()\n",
    "    cursor = connection.cursor()\n",
    "    # print(execute_string)\n",
    "    cursor.execute(execute_string)\n",
    "    print(\"cursor executed\")\n",
    "    connection.commit()\n",
    "    connection.close()"
   ]
  },
  {
   "cell_type": "markdown",
   "source": [],
   "metadata": {
    "collapsed": false
   }
  },
  {
   "cell_type": "code",
   "execution_count": 8,
   "outputs": [
    {
     "name": "stdout",
     "output_type": "stream",
     "text": [
      "Database connected successfully\n"
     ]
    }
   ],
   "source": [
    "# 2.3 a)\n",
    "# Importe umgangen:\n",
    "# TABLE geogemeinden per copy&paste eingefügt\n",
    "# TABLE states habe ich nicht importiert bekommen"
   ],
   "metadata": {
    "collapsed": false
   }
  },
  {
   "cell_type": "code",
   "execution_count": 16,
   "outputs": [
    {
     "name": "stdout",
     "output_type": "stream",
     "text": [
      "Database connected successfully\n"
     ]
    }
   ],
   "source": [
    "# 2.3 b)\n",
    "execute_cursor('''\n",
    "    CREATE VIEW GemeindenStates AS\n",
    "        SELECT code, SUBSTRING(code, 3, 2) AS bundesland\n",
    "        FROM geogemeinden;\n",
    "''')"
   ],
   "metadata": {
    "collapsed": false
   }
  },
  {
   "cell_type": "code",
   "execution_count": 17,
   "outputs": [
    {
     "name": "stdout",
     "output_type": "stream",
     "text": [
      "Database connected successfully\n"
     ]
    }
   ],
   "source": [
    "# 2.3 c)\n",
    "execute_cursor('''\n",
    "    SELECT bundesland\n",
    "    FROM gemeindenstates\n",
    "    GROUP BY bundesland\n",
    "    ORDER BY COUNT (bundesland) DESC;\n",
    "''')"
   ],
   "metadata": {
    "collapsed": false
   }
  },
  {
   "cell_type": "code",
   "execution_count": 20,
   "outputs": [
    {
     "name": "stdout",
     "output_type": "stream",
     "text": [
      "cursor executed\n"
     ]
    }
   ],
   "source": [
    "# 2.3 d)\n",
    "execute_cursor('''\n",
    "    SELECT SUBSTRING(code, 3, 2) AS bundesland, SUM(einw19) AS einwohner\n",
    "        FROM geogemeinden\n",
    "        GROUP BY bundesland\n",
    "        ORDER BY bundesland;\n",
    "    -- TODO Einwohner in states bestimmen\n",
    "''')"
   ],
   "metadata": {
    "collapsed": false
   }
  }
 ],
 "metadata": {
  "kernelspec": {
   "display_name": "Python 3",
   "language": "python",
   "name": "python3"
  },
  "language_info": {
   "codemirror_mode": {
    "name": "ipython",
    "version": 2
   },
   "file_extension": ".py",
   "mimetype": "text/x-python",
   "name": "python",
   "nbconvert_exporter": "python",
   "pygments_lexer": "ipython2",
   "version": "2.7.6"
  }
 },
 "nbformat": 4,
 "nbformat_minor": 0
}
